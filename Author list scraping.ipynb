{
 "cells": [
  {
   "cell_type": "code",
   "execution_count": 1,
   "metadata": {},
   "outputs": [],
   "source": [
    "import pandas as pd\n",
    "import numpy as np\n",
    "import re\n",
    "from bs4 import BeautifulSoup\n",
    "from urllib.request import Request, urlopen"
   ]
  },
  {
   "cell_type": "code",
   "execution_count": 28,
   "metadata": {},
   "outputs": [],
   "source": [
    "url_list = []\n",
    "for i in range(1,173):\n",
    "    url = 'https://www.thivien.net/searchauthor.php?Country=2&Page='+str(i)\n",
    "    url_list.append(url)\n",
    "\n",
    "def single_page_scrape(url):\n",
    "    req = Request(url, headers={'User-Agent': 'Mozilla/5.0'})\n",
    "    web_byte = urlopen(req).read()\n",
    "    html = web_byte.decode('utf-8')\n",
    "    soup = BeautifulSoup(html, 'lxml')\n",
    "\n",
    "    links_with_text = []\n",
    "    for a in soup.find_all('a', href=True): \n",
    "        if a.text and '/author' in a['href']:\n",
    "            link = 'https://www.thivien.net'+a['href']\n",
    "            links_with_text.append([a.text, link])\n",
    "    return links_with_text"
   ]
  },
  {
   "cell_type": "code",
   "execution_count": 45,
   "metadata": {
    "scrolled": true
   },
   "outputs": [
    {
     "data": {
      "text/html": [
       "<div>\n",
       "<style scoped>\n",
       "    .dataframe tbody tr th:only-of-type {\n",
       "        vertical-align: middle;\n",
       "    }\n",
       "\n",
       "    .dataframe tbody tr th {\n",
       "        vertical-align: top;\n",
       "    }\n",
       "\n",
       "    .dataframe thead th {\n",
       "        text-align: right;\n",
       "    }\n",
       "</style>\n",
       "<table border=\"1\" class=\"dataframe\">\n",
       "  <thead>\n",
       "    <tr style=\"text-align: right;\">\n",
       "      <th></th>\n",
       "      <th>author</th>\n",
       "      <th>link</th>\n",
       "    </tr>\n",
       "  </thead>\n",
       "  <tbody>\n",
       "    <tr>\n",
       "      <th>0</th>\n",
       "      <td>Châu La Việt - Lê Khánh Hoài</td>\n",
       "      <td>https://www.thivien.net/Ch%C3%A2u-La-Vi%E1%BB%...</td>\n",
       "    </tr>\n",
       "    <tr>\n",
       "      <th>1</th>\n",
       "      <td>Châu Nho - Nguyễn Minh Châu</td>\n",
       "      <td>https://www.thivien.net/Ch%C3%A2u-Nho/author-c...</td>\n",
       "    </tr>\n",
       "    <tr>\n",
       "      <th>2</th>\n",
       "      <td>Châu Thượng Vân</td>\n",
       "      <td>https://www.thivien.net/Ch%C3%A2u-Th%C6%B0%E1%...</td>\n",
       "    </tr>\n",
       "    <tr>\n",
       "      <th>3</th>\n",
       "      <td>Chế Lan Viên - Phan Ngọc Hoan</td>\n",
       "      <td>https://www.thivien.net/Ch%E1%BA%BF-Lan-Vi%C3%...</td>\n",
       "    </tr>\n",
       "    <tr>\n",
       "      <th>4</th>\n",
       "      <td>Chi Mai</td>\n",
       "      <td>https://www.thivien.net/Chi-Mai/author-V6sWiff...</td>\n",
       "    </tr>\n",
       "  </tbody>\n",
       "</table>\n",
       "</div>"
      ],
      "text/plain": [
       "                          author  \\\n",
       "0   Châu La Việt - Lê Khánh Hoài   \n",
       "1    Châu Nho - Nguyễn Minh Châu   \n",
       "2                Châu Thượng Vân   \n",
       "3  Chế Lan Viên - Phan Ngọc Hoan   \n",
       "4                        Chi Mai   \n",
       "\n",
       "                                                link  \n",
       "0  https://www.thivien.net/Ch%C3%A2u-La-Vi%E1%BB%...  \n",
       "1  https://www.thivien.net/Ch%C3%A2u-Nho/author-c...  \n",
       "2  https://www.thivien.net/Ch%C3%A2u-Th%C6%B0%E1%...  \n",
       "3  https://www.thivien.net/Ch%E1%BA%BF-Lan-Vi%C3%...  \n",
       "4  https://www.thivien.net/Chi-Mai/author-V6sWiff...  "
      ]
     },
     "execution_count": 45,
     "metadata": {},
     "output_type": "execute_result"
    }
   ],
   "source": [
    "AUTHOR_LIST = pd.DataFrame(columns=['author','link'])\n",
    "\n",
    "for page in url_list[9:10]: #edit this to prevent limits\n",
    "    data = single_page_scrape(page)\n",
    "    AUTHOR_LIST = pd.concat([AUTHOR_LIST,pd.DataFrame(data,columns=['author','link'])],axis=0)\n",
    "\n",
    "AUTHOR_LIST.head()"
   ]
  },
  {
   "cell_type": "code",
   "execution_count": 44,
   "metadata": {},
   "outputs": [],
   "source": [
    "AUTHOR_LIST.to_csv('authorlist.csv')"
   ]
  }
 ],
 "metadata": {
  "kernelspec": {
   "display_name": "Python 3",
   "language": "python",
   "name": "python3"
  },
  "language_info": {
   "codemirror_mode": {
    "name": "ipython",
    "version": 3
   },
   "file_extension": ".py",
   "mimetype": "text/x-python",
   "name": "python",
   "nbconvert_exporter": "python",
   "pygments_lexer": "ipython3",
   "version": "3.6.5"
  }
 },
 "nbformat": 4,
 "nbformat_minor": 2
}
