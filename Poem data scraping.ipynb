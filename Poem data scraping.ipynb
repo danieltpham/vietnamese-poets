{
 "cells": [
  {
   "cell_type": "code",
   "execution_count": 1,
   "metadata": {},
   "outputs": [],
   "source": [
    "import pandas as pd\n",
    "import numpy as np\n",
    "import re\n",
    "from bs4 import BeautifulSoup\n",
    "from urllib.request import Request, urlopen"
   ]
  },
  {
   "cell_type": "code",
   "execution_count": 27,
   "metadata": {},
   "outputs": [
    {
     "name": "stdout",
     "output_type": "stream",
     "text": [
      "ChếLanViên.csv\n",
      "https://www.thivien.net/Ch%C3%A2u-La-Vi%E1%BB%87t/T%C3%A2m-s%E1%BB%B1-v%E1%BB%9Bi-s%C3%B4ng-B%E1%BB%93/poem-D2UjhNsD0O5Z7OgDyg8U6Q\n"
     ]
    },
    {
     "data": {
      "text/html": [
       "<div>\n",
       "<style scoped>\n",
       "    .dataframe tbody tr th:only-of-type {\n",
       "        vertical-align: middle;\n",
       "    }\n",
       "\n",
       "    .dataframe tbody tr th {\n",
       "        vertical-align: top;\n",
       "    }\n",
       "\n",
       "    .dataframe thead th {\n",
       "        text-align: right;\n",
       "    }\n",
       "</style>\n",
       "<table border=\"1\" class=\"dataframe\">\n",
       "  <thead>\n",
       "    <tr style=\"text-align: right;\">\n",
       "      <th></th>\n",
       "      <th>Unnamed: 0</th>\n",
       "      <th>author</th>\n",
       "      <th>link</th>\n",
       "    </tr>\n",
       "  </thead>\n",
       "  <tbody>\n",
       "    <tr>\n",
       "      <th>0</th>\n",
       "      <td>0</td>\n",
       "      <td>Châu La Việt - Lê Khánh Hoài</td>\n",
       "      <td>https://www.thivien.net/Ch%C3%A2u-La-Vi%E1%BB%...</td>\n",
       "    </tr>\n",
       "    <tr>\n",
       "      <th>1</th>\n",
       "      <td>1</td>\n",
       "      <td>Châu Nho - Nguyễn Minh Châu</td>\n",
       "      <td>https://www.thivien.net/Ch%C3%A2u-Nho/author-c...</td>\n",
       "    </tr>\n",
       "    <tr>\n",
       "      <th>2</th>\n",
       "      <td>2</td>\n",
       "      <td>Châu Thượng Vân</td>\n",
       "      <td>https://www.thivien.net/Ch%C3%A2u-Th%C6%B0%E1%...</td>\n",
       "    </tr>\n",
       "    <tr>\n",
       "      <th>3</th>\n",
       "      <td>3</td>\n",
       "      <td>Chế Lan Viên - Phan Ngọc Hoan</td>\n",
       "      <td>https://www.thivien.net/Ch%E1%BA%BF-Lan-Vi%C3%...</td>\n",
       "    </tr>\n",
       "    <tr>\n",
       "      <th>4</th>\n",
       "      <td>4</td>\n",
       "      <td>Chi Mai</td>\n",
       "      <td>https://www.thivien.net/Chi-Mai/author-V6sWiff...</td>\n",
       "    </tr>\n",
       "    <tr>\n",
       "      <th>5</th>\n",
       "      <td>5</td>\n",
       "      <td>Chim Trắng - Hồ Văn Ba</td>\n",
       "      <td>https://www.thivien.net/Chim-Tr%E1%BA%AFng/aut...</td>\n",
       "    </tr>\n",
       "    <tr>\n",
       "      <th>6</th>\n",
       "      <td>6</td>\n",
       "      <td>Chính Hữu - Trần Đình Đắc</td>\n",
       "      <td>https://www.thivien.net/Ch%C3%ADnh-H%E1%BB%AFu...</td>\n",
       "    </tr>\n",
       "    <tr>\n",
       "      <th>7</th>\n",
       "      <td>7</td>\n",
       "      <td>Chu Đường Anh - 周堂瑛</td>\n",
       "      <td>https://www.thivien.net/Chu-%C4%90%C6%B0%E1%BB...</td>\n",
       "    </tr>\n",
       "    <tr>\n",
       "      <th>8</th>\n",
       "      <td>8</td>\n",
       "      <td>Chu Hoạch</td>\n",
       "      <td>https://www.thivien.net/Chu-Ho%E1%BA%A1ch/auth...</td>\n",
       "    </tr>\n",
       "    <tr>\n",
       "      <th>9</th>\n",
       "      <td>9</td>\n",
       "      <td>Chu Huân</td>\n",
       "      <td>https://www.thivien.net/Chu-Hu%C3%A2n/author-P...</td>\n",
       "    </tr>\n",
       "  </tbody>\n",
       "</table>\n",
       "</div>"
      ],
      "text/plain": [
       "   Unnamed: 0                         author  \\\n",
       "0           0   Châu La Việt - Lê Khánh Hoài   \n",
       "1           1    Châu Nho - Nguyễn Minh Châu   \n",
       "2           2                Châu Thượng Vân   \n",
       "3           3  Chế Lan Viên - Phan Ngọc Hoan   \n",
       "4           4                        Chi Mai   \n",
       "5           5         Chim Trắng - Hồ Văn Ba   \n",
       "6           6      Chính Hữu - Trần Đình Đắc   \n",
       "7           7            Chu Đường Anh - 周堂瑛   \n",
       "8           8                      Chu Hoạch   \n",
       "9           9                       Chu Huân   \n",
       "\n",
       "                                                link  \n",
       "0  https://www.thivien.net/Ch%C3%A2u-La-Vi%E1%BB%...  \n",
       "1  https://www.thivien.net/Ch%C3%A2u-Nho/author-c...  \n",
       "2  https://www.thivien.net/Ch%C3%A2u-Th%C6%B0%E1%...  \n",
       "3  https://www.thivien.net/Ch%E1%BA%BF-Lan-Vi%C3%...  \n",
       "4  https://www.thivien.net/Chi-Mai/author-V6sWiff...  \n",
       "5  https://www.thivien.net/Chim-Tr%E1%BA%AFng/aut...  \n",
       "6  https://www.thivien.net/Ch%C3%ADnh-H%E1%BB%AFu...  \n",
       "7  https://www.thivien.net/Chu-%C4%90%C6%B0%E1%BB...  \n",
       "8  https://www.thivien.net/Chu-Ho%E1%BA%A1ch/auth...  \n",
       "9  https://www.thivien.net/Chu-Hu%C3%A2n/author-P...  "
      ]
     },
     "execution_count": 27,
     "metadata": {},
     "output_type": "execute_result"
    }
   ],
   "source": [
    "df = pd.read_csv(\"authorlist.csv\")\n",
    "\n",
    "n = 3 #Edit this\n",
    "url = df['link'][n]\n",
    "author = df['author'][n]\n",
    "save_name = author.split('-')[0].replace(' ','')+'.csv'\n",
    "\n",
    "print(save_name)\n",
    "print(link)"
   ]
  },
  {
   "cell_type": "code",
   "execution_count": 12,
   "metadata": {},
   "outputs": [],
   "source": [
    "def find_links(url):\n",
    "    req = Request(url, headers={'User-Agent': 'Mozilla/5.0'})\n",
    "    web_byte = urlopen(req).read()\n",
    "    html = web_byte.decode('utf-8')\n",
    "    soup = BeautifulSoup(html, 'lxml')\n",
    "\n",
    "    link_list = set()\n",
    "    for link in soup.find_all(\"a\"):\n",
    "        if '/poem' in str(link):\n",
    "            link = 'https://www.thivien.net'+link['href']\n",
    "            link_list.add(link)\n",
    "    \n",
    "    return list(link_list)"
   ]
  },
  {
   "cell_type": "code",
   "execution_count": 28,
   "metadata": {},
   "outputs": [
    {
     "name": "stderr",
     "output_type": "stream",
     "text": [
      "IOPub data rate exceeded.\n",
      "The notebook server will temporarily stop sending output\n",
      "to the client in order to avoid crashing it.\n",
      "To change this limit, set the config variable\n",
      "`--NotebookApp.iopub_data_rate_limit`.\n",
      "\n",
      "Current values:\n",
      "NotebookApp.iopub_data_rate_limit=1000000.0 (bytes/sec)\n",
      "NotebookApp.rate_limit_window=3.0 (secs)\n",
      "\n"
     ]
    },
    {
     "data": {
      "text/plain": [
       "490"
      ]
     },
     "execution_count": 28,
     "metadata": {},
     "output_type": "execute_result"
    }
   ],
   "source": [
    "link_list = find_links(url)\n",
    "len(link_list)"
   ]
  },
  {
   "cell_type": "code",
   "execution_count": 14,
   "metadata": {},
   "outputs": [],
   "source": [
    "def cleanhtml(raw_html):\n",
    "    cleanr = re.compile('<.*?>')\n",
    "    raw_html = re.sub('<br/>', '@', raw_html)\n",
    "    cleantext = re.sub(cleanr, '', raw_html)\n",
    "    return cleantext\n",
    "\n",
    "def split_lines(url):\n",
    "    lines = []\n",
    "    \n",
    "    #Web scraping \n",
    "    req = Request(url, headers={'User-Agent': 'Mozilla/5.0'})\n",
    "    web_byte = urlopen(req).read()\n",
    "    html = web_byte.decode('utf-8')\n",
    "    \n",
    "    #Find poem content\n",
    "    soup = BeautifulSoup(html, 'lxml')\n",
    "    poem = soup.findAll(\"div\", {\"class\": \"poem-content\"})\n",
    "    \n",
    "    #Split lines\n",
    "    if poem:\n",
    "        for p in poem:\n",
    "            p = cleanhtml(str(p))\n",
    "            p = re.sub('(\\\\\\w+)|' '|(\\*)+','',str(p))\n",
    "            p = re.sub('</span><i class=\"fa fa-info-circle popupcmt\">','',str(p))\n",
    "            lines = re.split('@',str(p))[1:-1]\n",
    "            lines = list(filter(None, lines))\n",
    "    return lines"
   ]
  },
  {
   "cell_type": "code",
   "execution_count": 15,
   "metadata": {},
   "outputs": [
    {
     "data": {
      "text/plain": [
       "2"
      ]
     },
     "execution_count": 15,
     "metadata": {},
     "output_type": "execute_result"
    }
   ],
   "source": [
    "rawdata = []\n",
    "\n",
    "for link in link_list:\n",
    "    rawdata.append(split_lines(link))\n",
    "\n",
    "len(rawdata)"
   ]
  },
  {
   "cell_type": "code",
   "execution_count": 16,
   "metadata": {},
   "outputs": [
    {
     "data": {
      "text/plain": [
       "45"
      ]
     },
     "execution_count": 16,
     "metadata": {},
     "output_type": "execute_result"
    }
   ],
   "source": [
    "import itertools\n",
    "rawdata = list(filter(None,rawdata)) #Filter empty str from request limits\n",
    "flat_rawdata = list(itertools.chain(*rawdata)) #Flatten list\n",
    "len(flat_rawdata)"
   ]
  },
  {
   "cell_type": "code",
   "execution_count": 17,
   "metadata": {},
   "outputs": [],
   "source": [
    "import csv\n",
    "with open(save_name,'w', encoding='UTF-8', newline='') as resultFile:\n",
    "    wr = csv.writer(resultFile, dialect='excel')\n",
    "    wr.writerow(flat_rawdata)"
   ]
  }
 ],
 "metadata": {
  "kernelspec": {
   "display_name": "Python 3",
   "language": "python",
   "name": "python3"
  },
  "language_info": {
   "codemirror_mode": {
    "name": "ipython",
    "version": 3
   },
   "file_extension": ".py",
   "mimetype": "text/x-python",
   "name": "python",
   "nbconvert_exporter": "python",
   "pygments_lexer": "ipython3",
   "version": "3.6.5"
  }
 },
 "nbformat": 4,
 "nbformat_minor": 2
}
